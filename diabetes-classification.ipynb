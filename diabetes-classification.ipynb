{
 "cells": [
  {
   "cell_type": "code",
   "execution_count": 57,
   "metadata": {},
   "outputs": [],
   "source": [
    "import torch\n",
    "import torch.nn as nn\n",
    "import torch.nn.functional as F\n",
    "import torch.optim as optim\n",
    "from torch.utils.data import DataLoader, Dataset\n",
    "import pandas as pd\n",
    "from sklearn.model_selection import train_test_split"
   ]
  },
  {
   "cell_type": "code",
   "execution_count": 18,
   "metadata": {},
   "outputs": [],
   "source": [
    "df = pd.read_csv('data/diabetes.csv', dtype=float)"
   ]
  },
  {
   "cell_type": "code",
   "execution_count": 23,
   "metadata": {},
   "outputs": [],
   "source": [
    "X = df.drop('Outcome', axis=1).values\n",
    "y = df['Outcome']"
   ]
  },
  {
   "cell_type": "code",
   "execution_count": 31,
   "metadata": {},
   "outputs": [],
   "source": [
    "X_train, X_test, y_train, y_test = train_test_split(X, y, test_size=0.2, random_state=42)"
   ]
  },
  {
   "cell_type": "code",
   "execution_count": 27,
   "metadata": {},
   "outputs": [],
   "source": [
    "class DiabetesDataset(Dataset):\n",
    "  def __init__(self, features, labels):\n",
    "    self.features = torch.tensor(features, dtype=torch.float32)\n",
    "    self.labels = torch.tensor(labels, dtype=torch.float32)\n",
    "\n",
    "  def __len__(self):\n",
    "    return len(self.features)\n",
    "  \n",
    "  def __getitem__(self, idx):\n",
    "    return self.features[idx], self.labels[idx]"
   ]
  },
  {
   "cell_type": "code",
   "execution_count": 46,
   "metadata": {},
   "outputs": [],
   "source": [
    "train_dataset = DiabetesDataset(X_train, y_train)\n",
    "test_dataset = DiabetesDataset(X_test, y_test)"
   ]
  },
  {
   "cell_type": "code",
   "execution_count": 47,
   "metadata": {},
   "outputs": [],
   "source": [
    "train_loader = DataLoader(train_dataset, batch_size=32, shuffle=True)\n",
    "test_loader = DataLoader(test_dataset, batch_size=32, shuffle=False)"
   ]
  },
  {
   "cell_type": "code",
   "execution_count": 36,
   "metadata": {},
   "outputs": [],
   "source": [
    "class DiabetesClassifier(nn.Module):\n",
    "  def __init__(self):\n",
    "    super(DiabetesClassifier, self).__init__()\n",
    "    self.fc1 = nn.Linear(8, 64)\n",
    "    self.fc2 = nn.Linear(64, 32)\n",
    "    self.fc3 = nn.Linear(32, 1)\n",
    "\n",
    "  def forward(self, x):\n",
    "    x = F.relu(self.fc1(x))\n",
    "    x = F.relu(self.fc2(x))\n",
    "    x = torch.sigmoid(self.fc3(x))\n",
    "    return x"
   ]
  },
  {
   "cell_type": "code",
   "execution_count": 43,
   "metadata": {},
   "outputs": [],
   "source": [
    "model = DiabetesClassifier()"
   ]
  },
  {
   "cell_type": "code",
   "execution_count": 44,
   "metadata": {},
   "outputs": [],
   "source": [
    "# loss function and optimizer\n",
    "criterion = nn.BCELoss()\n",
    "optimizer = optim.Adam(model.parameters(), lr=0.001)"
   ]
  },
  {
   "cell_type": "code",
   "execution_count": 55,
   "metadata": {},
   "outputs": [
    {
     "name": "stdout",
     "output_type": "stream",
     "text": [
      "Epoch 1/10, Loss: 0.5261257857084274\n",
      "Epoch 2/10, Loss: 0.5249041602015495\n",
      "Epoch 3/10, Loss: 0.5387098073959351\n",
      "Epoch 4/10, Loss: 0.5764228746294975\n",
      "Epoch 5/10, Loss: 0.5739735543727875\n",
      "Epoch 6/10, Loss: 0.5387895837426185\n",
      "Epoch 7/10, Loss: 0.5389506310224533\n",
      "Epoch 8/10, Loss: 0.504512856900692\n",
      "Epoch 9/10, Loss: 0.5618639215826988\n",
      "Epoch 10/10, Loss: 0.5514127910137177\n"
     ]
    }
   ],
   "source": [
    "epochs = 10\n",
    "for epoch in range(epochs):\n",
    "  model.train()\n",
    "  running_loss = 0.0\n",
    "  \n",
    "  for inputs, labels in train_loader:\n",
    "    optimizer.zero_grad() # zero the parameter gradients\n",
    "    outputs = model(inputs) # forward pass\n",
    "    loss = criterion(outputs, labels.unsqueeze(1))\n",
    "    loss.backward()\n",
    "    optimizer.step()\n",
    "    running_loss += loss.item()\n",
    "  \n",
    "  print(f'Epoch {epoch + 1}/{epochs}, Loss: {running_loss/len(train_loader)}')"
   ]
  },
  {
   "cell_type": "code",
   "execution_count": 56,
   "metadata": {},
   "outputs": [
    {
     "name": "stdout",
     "output_type": "stream",
     "text": [
      "Accuracy: 0.73\n"
     ]
    }
   ],
   "source": [
    "model.eval()\n",
    "total_correct = 0\n",
    "total_samples = 0\n",
    "\n",
    "with torch.no_grad():\n",
    "  for inputs, labels in test_loader:\n",
    "    outputs = model(inputs)\n",
    "    predicted_labels = (outputs >= 0.5).float()\n",
    "    total_correct += (predicted_labels == labels.unsqueeze(1)).sum()\n",
    "    total_samples += labels.size(0)\n",
    "  \n",
    "accuracy = total_correct / total_samples\n",
    "print(f'Accuracy: {accuracy:.2f}')"
   ]
  }
 ],
 "metadata": {
  "kernelspec": {
   "display_name": "Python 3",
   "language": "python",
   "name": "python3"
  },
  "language_info": {
   "codemirror_mode": {
    "name": "ipython",
    "version": 3
   },
   "file_extension": ".py",
   "mimetype": "text/x-python",
   "name": "python",
   "nbconvert_exporter": "python",
   "pygments_lexer": "ipython3",
   "version": "3.12.1"
  }
 },
 "nbformat": 4,
 "nbformat_minor": 2
}
